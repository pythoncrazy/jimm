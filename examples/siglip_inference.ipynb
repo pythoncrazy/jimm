{
 "cells": [
  {
   "cell_type": "code",
   "execution_count": 1,
   "id": "12ab36c5",
   "metadata": {},
   "outputs": [
    {
     "name": "stderr",
     "output_type": "stream",
     "text": [
      "2025-07-15 23:14:55.461289: E external/local_xla/xla/stream_executor/cuda/cuda_fft.cc:467] Unable to register cuFFT factory: Attempting to register factory for plugin cuFFT when one has already been registered\n",
      "WARNING: All log messages before absl::InitializeLog() is called are written to STDERR\n",
      "E0000 00:00:1752621295.486223 2562305 cuda_dnn.cc:8579] Unable to register cuDNN factory: Attempting to register factory for plugin cuDNN when one has already been registered\n",
      "E0000 00:00:1752621295.494232 2562305 cuda_blas.cc:1407] Unable to register cuBLAS factory: Attempting to register factory for plugin cuBLAS when one has already been registered\n",
      "W0000 00:00:1752621295.515772 2562305 computation_placer.cc:177] computation placer already registered. Please check linkage and avoid linking the same target more than once.\n",
      "W0000 00:00:1752621295.515797 2562305 computation_placer.cc:177] computation placer already registered. Please check linkage and avoid linking the same target more than once.\n",
      "W0000 00:00:1752621295.515799 2562305 computation_placer.cc:177] computation placer already registered. Please check linkage and avoid linking the same target more than once.\n",
      "W0000 00:00:1752621295.515801 2562305 computation_placer.cc:177] computation placer already registered. Please check linkage and avoid linking the same target more than once.\n"
     ]
    }
   ],
   "source": [
    "import jax\n",
    "import jax.numpy as jnp\n",
    "import requests\n",
    "from PIL import Image\n",
    "from transformers import AutoProcessor\n",
    "\n",
    "from jimm.models.siglip import SigLIP\n",
    "\n",
    "model = SigLIP(\n",
    "    image_resolution=224, vision_layers=27, vision_width=1152, vision_patch_size=14, context_length=64, vocab_size=32000, transformer_width=1152, transformer_heads=16, transformer_layers=27\n",
    ")"
   ]
  },
  {
   "cell_type": "code",
   "execution_count": 3,
   "id": "017d7c31",
   "metadata": {},
   "outputs": [
    {
     "name": "stdout",
     "output_type": "stream",
     "text": [
      "[[[[ 0.58728105 -1.3168719  -0.48481512]\n",
      "   [ 0.58728105 -1.301864   -0.4137148 ]\n",
      "   [ 0.61647785 -1.3168719  -0.38527465]\n",
      "   ...\n",
      "   [ 0.0617376  -1.496965   -0.95407724]\n",
      "   [ 0.04713918 -1.436934   -0.8545369 ]\n",
      "   [-0.02585294 -1.4819573  -0.8545369 ]]\n",
      "\n",
      "  [[ 0.5726826  -1.241833   -0.4137148 ]\n",
      "   [ 0.5726826  -1.2718486  -0.47059506]\n",
      "   [ 0.66027313 -1.2268252  -0.3710546 ]\n",
      "   ...\n",
      "   [ 0.12013142 -1.436934   -0.81187665]\n",
      "   [ 0.07633615 -1.4669495  -0.8545369 ]\n",
      "   [ 0.09093457 -1.4519417  -0.78343654]]\n",
      "\n",
      "  [[ 0.58728105 -1.2568408  -0.32839438]\n",
      "   [ 0.54348576 -1.3168719  -0.4421549 ]\n",
      "   [ 0.61647785 -1.2268252  -0.38527465]\n",
      "   ...\n",
      "   [ 0.03254076 -1.4669495  -0.86875695]\n",
      "   [ 0.12013142 -1.4069184  -0.81187665]\n",
      "   [ 0.0617376  -1.4519417  -0.882977  ]]\n",
      "\n",
      "  ...\n",
      "\n",
      "  [[ 1.8719424   0.1238739   1.5770944 ]\n",
      "   [ 1.857344    0.10886613  1.6481948 ]\n",
      "   [ 1.8719424   0.1238739   1.6339747 ]\n",
      "   ...\n",
      "   [ 1.3901944  -0.7015533   0.90875137]\n",
      "   [ 1.4339896  -0.6865455   0.9514116 ]\n",
      "   [ 1.4193913  -0.6865455   0.8945313 ]]\n",
      "\n",
      "  [[ 1.8281472   0.0788506   1.6197547 ]\n",
      "   [ 1.8719424   0.09385836  1.6055346 ]\n",
      "   [ 1.8427455   0.04883507  1.6055346 ]\n",
      "   ...\n",
      "   [ 1.4485881  -0.65652996  0.8660912 ]\n",
      "   [ 1.4339896  -0.6865455   0.80921096]\n",
      "   [ 1.5069818  -0.6115067   0.7949909 ]]\n",
      "\n",
      "  [[ 1.857344    0.09385836  1.6624149 ]\n",
      "   [ 1.9011393   0.10886613  1.6766349 ]\n",
      "   [ 1.8281472   0.00381176  1.5486543 ]\n",
      "   ...\n",
      "   [ 1.3755959  -0.77659214  0.7949909 ]\n",
      "   [ 1.3609976  -0.7315688   0.8660912 ]\n",
      "   [ 1.4485881  -0.6115067   0.85187113]]]]\n",
      "(1, 1152)\n"
     ]
    }
   ],
   "source": [
    "url = \"http://images.cocodataset.org/val2017/000000039769.jpg\"\n",
    "image = Image.open(requests.get(url, stream=True).raw)\n",
    "HF_MODEL_NAME = \"openai/clip-vit-base-patch32\"\n",
    "processor = AutoProcessor.from_pretrained(HF_MODEL_NAME)\n",
    "inputs = jnp.transpose(processor(images=image, return_tensors=\"jax\")[\"pixel_values\"], axes=(0, 2, 3, 1))\n",
    "print(inputs)\n",
    "print(jax.jit(model.encode_image)(inputs).shape)"
   ]
  }
 ],
 "metadata": {
  "kernelspec": {
   "display_name": ".venv",
   "language": "python",
   "name": "python3"
  },
  "language_info": {
   "codemirror_mode": {
    "name": "ipython",
    "version": 3
   },
   "file_extension": ".py",
   "mimetype": "text/x-python",
   "name": "python",
   "nbconvert_exporter": "python",
   "pygments_lexer": "ipython3",
   "version": "3.12.8"
  }
 },
 "nbformat": 4,
 "nbformat_minor": 5
}
